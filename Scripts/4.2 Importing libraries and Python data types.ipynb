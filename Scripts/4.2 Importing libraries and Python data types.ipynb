{
 "cells": [
  {
   "cell_type": "markdown",
   "id": "bf3d2713",
   "metadata": {},
   "source": [
    "# 01. Importing libraries"
   ]
  },
  {
   "cell_type": "code",
   "execution_count": 1,
   "id": "b71162c8",
   "metadata": {},
   "outputs": [],
   "source": [
    "# Import libraries\n",
    "import pandas as pd\n",
    "import numpy as np\n",
    "import os"
   ]
  },
  {
   "cell_type": "markdown",
   "id": "829f7d83",
   "metadata": {},
   "source": [
    "# 02. Data types"
   ]
  },
  {
   "cell_type": "code",
   "execution_count": 4,
   "id": "418470eb",
   "metadata": {},
   "outputs": [],
   "source": [
    "x = 70"
   ]
  },
  {
   "cell_type": "code",
   "execution_count": 5,
   "id": "df1d35f4",
   "metadata": {},
   "outputs": [
    {
     "data": {
      "text/plain": [
       "70"
      ]
     },
     "execution_count": 5,
     "metadata": {},
     "output_type": "execute_result"
    }
   ],
   "source": [
    "x"
   ]
  },
  {
   "cell_type": "code",
   "execution_count": 8,
   "id": "e46ba745",
   "metadata": {},
   "outputs": [
    {
     "name": "stdout",
     "output_type": "stream",
     "text": [
      "70\n"
     ]
    }
   ],
   "source": [
    "print(x)"
   ]
  },
  {
   "cell_type": "code",
   "execution_count": 7,
   "id": "45199bed",
   "metadata": {},
   "outputs": [
    {
     "data": {
      "text/plain": [
       "100"
      ]
     },
     "execution_count": 7,
     "metadata": {},
     "output_type": "execute_result"
    }
   ],
   "source": [
    "x + 30"
   ]
  },
  {
   "cell_type": "code",
   "execution_count": 9,
   "id": "948becaf",
   "metadata": {},
   "outputs": [
    {
     "name": "stdout",
     "output_type": "stream",
     "text": [
      "70\n"
     ]
    }
   ],
   "source": [
    "print(x)"
   ]
  },
  {
   "cell_type": "code",
   "execution_count": 10,
   "id": "b11d6562",
   "metadata": {},
   "outputs": [
    {
     "data": {
      "text/plain": [
       "100"
      ]
     },
     "execution_count": 10,
     "metadata": {},
     "output_type": "execute_result"
    }
   ],
   "source": [
    "x + 30"
   ]
  },
  {
   "cell_type": "code",
   "execution_count": 11,
   "id": "26a5ce7d",
   "metadata": {},
   "outputs": [],
   "source": [
    "x = x + 30"
   ]
  },
  {
   "cell_type": "code",
   "execution_count": 12,
   "id": "7a7ed56b",
   "metadata": {},
   "outputs": [
    {
     "name": "stdout",
     "output_type": "stream",
     "text": [
      "100\n"
     ]
    }
   ],
   "source": [
    "print(x)"
   ]
  },
  {
   "cell_type": "code",
   "execution_count": 13,
   "id": "c78e283c",
   "metadata": {},
   "outputs": [],
   "source": [
    "y = 105"
   ]
  },
  {
   "cell_type": "code",
   "execution_count": 14,
   "id": "cda62770",
   "metadata": {},
   "outputs": [
    {
     "data": {
      "text/plain": [
       "105"
      ]
     },
     "execution_count": 14,
     "metadata": {},
     "output_type": "execute_result"
    }
   ],
   "source": [
    "y"
   ]
  },
  {
   "cell_type": "code",
   "execution_count": 15,
   "id": "9b5922b3",
   "metadata": {},
   "outputs": [
    {
     "name": "stdout",
     "output_type": "stream",
     "text": [
      "105\n"
     ]
    }
   ],
   "source": [
    "print(y)"
   ]
  },
  {
   "cell_type": "code",
   "execution_count": 16,
   "id": "cc918d6a",
   "metadata": {},
   "outputs": [
    {
     "data": {
      "text/plain": [
       "100"
      ]
     },
     "execution_count": 16,
     "metadata": {},
     "output_type": "execute_result"
    }
   ],
   "source": [
    "y - 5"
   ]
  },
  {
   "cell_type": "code",
   "execution_count": 17,
   "id": "cb47f512",
   "metadata": {},
   "outputs": [],
   "source": [
    "m = 200"
   ]
  },
  {
   "cell_type": "code",
   "execution_count": 18,
   "id": "4f3585c9",
   "metadata": {},
   "outputs": [],
   "source": [
    "n = 2"
   ]
  },
  {
   "cell_type": "code",
   "execution_count": 19,
   "id": "977261e0",
   "metadata": {},
   "outputs": [
    {
     "name": "stdout",
     "output_type": "stream",
     "text": [
      "100.0\n"
     ]
    }
   ],
   "source": [
    "print(m / n)"
   ]
  },
  {
   "cell_type": "code",
   "execution_count": 27,
   "id": "96e720bb",
   "metadata": {},
   "outputs": [],
   "source": [
    "a = 'po'"
   ]
  },
  {
   "cell_type": "code",
   "execution_count": 28,
   "id": "d9194516",
   "metadata": {},
   "outputs": [],
   "source": [
    "b = 'ta'"
   ]
  },
  {
   "cell_type": "code",
   "execution_count": 29,
   "id": "62ca671c",
   "metadata": {},
   "outputs": [],
   "source": [
    "c = 'to'"
   ]
  },
  {
   "cell_type": "code",
   "execution_count": 31,
   "id": "12300674",
   "metadata": {},
   "outputs": [
    {
     "data": {
      "text/plain": [
       "'potato'"
      ]
     },
     "execution_count": 31,
     "metadata": {},
     "output_type": "execute_result"
    }
   ],
   "source": [
    "a + b + c"
   ]
  },
  {
   "cell_type": "code",
   "execution_count": 32,
   "id": "39a36593",
   "metadata": {},
   "outputs": [],
   "source": [
    "d = 'You '"
   ]
  },
  {
   "cell_type": "code",
   "execution_count": 33,
   "id": "59984477",
   "metadata": {},
   "outputs": [],
   "source": [
    "e = 'got '"
   ]
  },
  {
   "cell_type": "code",
   "execution_count": 34,
   "id": "2fccd114",
   "metadata": {},
   "outputs": [],
   "source": [
    "f = 'mail'"
   ]
  },
  {
   "cell_type": "code",
   "execution_count": 35,
   "id": "71c2668c",
   "metadata": {},
   "outputs": [
    {
     "data": {
      "text/plain": [
       "'You got mail'"
      ]
     },
     "execution_count": 35,
     "metadata": {},
     "output_type": "execute_result"
    }
   ],
   "source": [
    "d + e + f"
   ]
  },
  {
   "cell_type": "code",
   "execution_count": 36,
   "id": "0251cb82",
   "metadata": {},
   "outputs": [],
   "source": [
    "g = 'May '"
   ]
  },
  {
   "cell_type": "code",
   "execution_count": 37,
   "id": "72b294d5",
   "metadata": {},
   "outputs": [],
   "source": [
    "h = 'the '"
   ]
  },
  {
   "cell_type": "code",
   "execution_count": 38,
   "id": "458178fe",
   "metadata": {},
   "outputs": [],
   "source": [
    "i = 'Force '"
   ]
  },
  {
   "cell_type": "code",
   "execution_count": 39,
   "id": "ec7c37b5",
   "metadata": {},
   "outputs": [],
   "source": [
    "j = 'be '"
   ]
  },
  {
   "cell_type": "code",
   "execution_count": 40,
   "id": "b5559936",
   "metadata": {},
   "outputs": [],
   "source": [
    "k = 'with '"
   ]
  },
  {
   "cell_type": "code",
   "execution_count": 41,
   "id": "5846bf11",
   "metadata": {},
   "outputs": [],
   "source": [
    "l = 'you'"
   ]
  },
  {
   "cell_type": "code",
   "execution_count": 42,
   "id": "1627fd4f",
   "metadata": {},
   "outputs": [
    {
     "data": {
      "text/plain": [
       "'May the Force be with you'"
      ]
     },
     "execution_count": 42,
     "metadata": {},
     "output_type": "execute_result"
    }
   ],
   "source": [
    "g + h + i + j + k + l"
   ]
  },
  {
   "cell_type": "code",
   "execution_count": 46,
   "id": "1e4f649c",
   "metadata": {},
   "outputs": [],
   "source": [
    "o = 'tomato'"
   ]
  },
  {
   "cell_type": "code",
   "execution_count": 47,
   "id": "072b4463",
   "metadata": {},
   "outputs": [
    {
     "data": {
      "text/plain": [
       "'tomatotomatotomatotomatotomatotomatotomatotomatotomatotomatotomatotomatotomatotomatotomatotomatotomatotomatotomatotomatotomatotomatotomatotomatotomatotomatotomatotomatotomatotomatotomatotomatotomatotomatotomatotomatotomatotomatotomatotomatotomatotomatotomatotomatotomatotomatotomatotomatotomatotomatotomatotomatotomatotomatotomatotomatotomatotomatotomatotomatotomatotomatotomatotomatotomatotomatotomatotomatotomatotomatotomatotomatotomatotomatotomatotomatotomatotomatotomatotomatotomatotomatotomatotomatotomatotomatotomatotomatotomatotomatotomatotomatotomatotomatotomatotomatotomatotomatotomatotomato'"
      ]
     },
     "execution_count": 47,
     "metadata": {},
     "output_type": "execute_result"
    }
   ],
   "source": [
    "o * 100"
   ]
  }
 ],
 "metadata": {
  "kernelspec": {
   "display_name": "Python 3 (ipykernel)",
   "language": "python",
   "name": "python3"
  },
  "language_info": {
   "codemirror_mode": {
    "name": "ipython",
    "version": 3
   },
   "file_extension": ".py",
   "mimetype": "text/x-python",
   "name": "python",
   "nbconvert_exporter": "python",
   "pygments_lexer": "ipython3",
   "version": "3.9.13"
  }
 },
 "nbformat": 4,
 "nbformat_minor": 5
}
